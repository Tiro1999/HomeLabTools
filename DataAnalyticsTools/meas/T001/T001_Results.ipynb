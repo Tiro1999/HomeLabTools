{
 "cells": [
  {
   "cell_type": "markdown",
   "source": [
    "# T001 Battery Endurance Test Results\n",
    "\n",
    "### Here will be the accumulated Scrips for all results"
   ],
   "metadata": {
    "collapsed": false
   },
   "id": "8973cf669ba21be1"
  },
  {
   "cell_type": "markdown",
   "source": [],
   "metadata": {
    "collapsed": false
   },
   "id": "e9c5c8e573721092"
  }
 ],
 "metadata": {
  "kernelspec": {
   "display_name": "Python 3",
   "language": "python",
   "name": "python3"
  },
  "language_info": {
   "codemirror_mode": {
    "name": "ipython",
    "version": 2
   },
   "file_extension": ".py",
   "mimetype": "text/x-python",
   "name": "python",
   "nbconvert_exporter": "python",
   "pygments_lexer": "ipython2",
   "version": "2.7.6"
  }
 },
 "nbformat": 4,
 "nbformat_minor": 5
}
